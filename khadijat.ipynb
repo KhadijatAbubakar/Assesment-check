{
 "cells": [
  {
   "cell_type": "code",
   "execution_count": 1,
   "id": "effa6f3a-ab48-47d5-95e7-15c75f801751",
   "metadata": {},
   "outputs": [
    {
     "name": "stdout",
     "output_type": "stream",
     "text": [
      "ny first line of code\n"
     ]
    }
   ],
   "source": [
    "print(\"ny first line of code\")"
   ]
  },
  {
   "cell_type": "code",
   "execution_count": 2,
   "id": "9fe579f6-d70f-4996-80e8-2af5406edea2",
   "metadata": {},
   "outputs": [
    {
     "name": "stdout",
     "output_type": "stream",
     "text": [
      "hello\n"
     ]
    }
   ],
   "source": [
    "print(\"hello\")"
   ]
  },
  {
   "cell_type": "code",
   "execution_count": 3,
   "id": "f0542a18-72c4-4819-ace0-2e7c19d100be",
   "metadata": {},
   "outputs": [
    {
     "name": "stdout",
     "output_type": "stream",
     "text": [
      "how are you\n"
     ]
    }
   ],
   "source": [
    "print(\"how are you\")"
   ]
  },
  {
   "cell_type": "markdown",
   "id": "542f163d-0ab9-40e3-aeb6-557ec47374dc",
   "metadata": {},
   "source": [
    "3*5"
   ]
  },
  {
   "cell_type": "code",
   "execution_count": 4,
   "id": "da9581ff-e33c-4926-8116-be3d4992d9bc",
   "metadata": {},
   "outputs": [
    {
     "data": {
      "text/plain": [
       "4"
      ]
     },
     "execution_count": 4,
     "metadata": {},
     "output_type": "execute_result"
    }
   ],
   "source": [
    "2+2"
   ]
  },
  {
   "cell_type": "code",
   "execution_count": 5,
   "id": "f26855c9-d443-4313-9068-baa05a384b09",
   "metadata": {},
   "outputs": [
    {
     "name": "stdout",
     "output_type": "stream",
     "text": [
      "first practical\n"
     ]
    }
   ],
   "source": [
    "print(\"first practical\")"
   ]
  },
  {
   "cell_type": "code",
   "execution_count": null,
   "id": "94d0b24c-5dd3-4aeb-a6a3-4b9daaf887b1",
   "metadata": {},
   "outputs": [],
   "source": []
  }
 ],
 "metadata": {
  "kernelspec": {
   "display_name": "Python 3 (ipykernel)",
   "language": "python",
   "name": "python3"
  },
  "language_info": {
   "codemirror_mode": {
    "name": "ipython",
    "version": 3
   },
   "file_extension": ".py",
   "mimetype": "text/x-python",
   "name": "python",
   "nbconvert_exporter": "python",
   "pygments_lexer": "ipython3",
   "version": "3.11.7"
  }
 },
 "nbformat": 4,
 "nbformat_minor": 5
}
